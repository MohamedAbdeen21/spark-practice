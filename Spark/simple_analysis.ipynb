{
 "cells": [
  {
   "cell_type": "code",
   "execution_count": 1,
   "id": "278bbc8c",
   "metadata": {},
   "outputs": [
    {
     "name": "stdout",
     "output_type": "stream",
     "text": [
      "Defaulting to user installation because normal site-packages is not writeable\n",
      "Requirement already satisfied: pyspark in /home/mohamed/.local/lib/python3.10/site-packages (3.3.0)\n",
      "Requirement already satisfied: py4j==0.10.9.5 in /home/mohamed/.local/lib/python3.10/site-packages (from pyspark) (0.10.9.5)\n",
      "22/07/15 13:57:05 WARN NativeCodeLoader: Unable to load native-hadoop library for your platform... using builtin-java classes where applicable\n"
     ]
    },
    {
     "name": "stderr",
     "output_type": "stream",
     "text": [
      "Setting default log level to \"WARN\".\n",
      "To adjust logging level use sc.setLogLevel(newLevel). For SparkR, use setLogLevel(newLevel).\n"
     ]
    },
    {
     "name": "stdout",
     "output_type": "stream",
     "text": [
      "22/07/15 13:57:06 WARN Utils: Service 'SparkUI' could not bind on port 4040. Attempting port 4041.\n",
      "root\n",
      " |-- sk: integer (nullable = true)\n",
      " |-- url: string (nullable = true)\n",
      " |-- title: string (nullable = true)\n",
      " |-- text: string (nullable = true)\n",
      " |-- tags: string (nullable = true)\n",
      " |-- count: integer (nullable = true)\n",
      " |-- date: date (nullable = true)\n",
      " |-- summary: string (nullable = true)\n",
      "\n"
     ]
    }
   ],
   "source": [
    "!pip install pyspark\n",
    "from pyspark.sql import SparkSession\n",
    "\n",
    "spark = SparkSession \\\n",
    "    .builder \\\n",
    "    .master('local[*]') \\\n",
    "    .appName(\"PySpark SQL basic example\") \\\n",
    "    .config(\"spark.jars\", \"postgresql-42.3.6.jar\") \\\n",
    "    .getOrCreate()\n",
    "\n",
    "df = spark.read \\\n",
    "    .format(\"jdbc\") \\\n",
    "    .option(\"url\", \"jdbc:postgresql://localhost:5432/newsscraper\") \\\n",
    "    .option(\"dbtable\", \"articles\") \\\n",
    "    .option(\"user\", \"root\") \\\n",
    "    .option(\"password\", \"root\") \\\n",
    "    .option(\"driver\", \"org.postgresql.Driver\") \\\n",
    "    .load()\n",
    "\n",
    "df.printSchema()"
   ]
  },
  {
   "cell_type": "code",
   "execution_count": 2,
   "id": "e784af3d",
   "metadata": {},
   "outputs": [
    {
     "name": "stdout",
     "output_type": "stream",
     "text": [
      "Defaulting to user installation because normal site-packages is not writeable\r\n",
      "Requirement already satisfied: pyarrow in /home/mohamed/.local/lib/python3.10/site-packages (8.0.0)\r\n",
      "Requirement already satisfied: numpy>=1.16.6 in /usr/lib64/python3.10/site-packages (from pyarrow) (1.22.0)\r\n"
     ]
    }
   ],
   "source": [
    "!pip install pyarrow\n",
    "import matplotlib.pyplot as plt\n",
    "from pyspark.sql.functions import split, lit"
   ]
  },
  {
   "cell_type": "code",
   "execution_count": 3,
   "id": "b7d96d1e",
   "metadata": {},
   "outputs": [
    {
     "name": "stdout",
     "output_type": "stream",
     "text": [
      "+--------------+-----+\n",
      "|        domain|count|\n",
      "+--------------+-----+\n",
      "|   theguardian| 2845|\n",
      "|       nytimes| 2059|\n",
      "|washingtonpost| 1805|\n",
      "|           bbc| 1655|\n",
      "|       foxnews|  873|\n",
      "|       cbsnews|  730|\n",
      "|  sciencedaily|  482|\n",
      "|        sltrib|  436|\n",
      "|           cnn|  323|\n",
      "|           npr|  305|\n",
      "|         wired|  179|\n",
      "|      usatoday|  167|\n",
      "|    smartbrief|  118|\n",
      "|           vox|  117|\n",
      "|           ksl|   91|\n",
      "|     newyorker|   86|\n",
      "|      macworld|   50|\n",
      "|   thespectrum|   36|\n",
      "|            ed|   12|\n",
      "|          utah|    7|\n",
      "+--------------+-----+\n",
      "only showing top 20 rows\n",
      "\n"
     ]
    },
    {
     "data": {
      "text/plain": [
       "[]"
      ]
     },
     "execution_count": 3,
     "metadata": {},
     "output_type": "execute_result"
    },
    {
     "data": {
      "image/png": "[encoded data removed]",
      "text/plain": [
       "<Figure size 432x288 with 1 Axes>"
      ]
     },
     "metadata": {},
     "output_type": "display_data"
    }
   ],
   "source": [
    "df_with_domain = df.withColumn('domain', split(df['url'],'\\.').getItem(1))\n",
    "domains = df_with_domain.select('domain')\n",
    "domains = domains.select('domain').groupBy('domain').count().orderBy('count',ascending=False)\n",
    "# get only top 20, 20 is the default value for show()\n",
    "domains.show()\n",
    "\n",
    "# Show top 9 domains, aggregate the rest\n",
    "temporary = domains.select('domain','count').limit(9)\n",
    "others = domains.subtract(temporary).select(lit('others'),'count').groupBy('others').sum('count')\n",
    "domains = domains.select('domain','count').limit(9).union(others)\n",
    "\n",
    "domains_pandas_df = domains.toPandas().head(10)\n",
    "plt.pie(domains_pandas_df['count'], labels = domains_pandas_df['domain'],  autopct='%1.0f%%')\n",
    "plt.plot()"
   ]
  },
  {
   "cell_type": "code",
   "execution_count": 4,
   "id": "5ad8b433",
   "metadata": {},
   "outputs": [
    {
     "name": "stdout",
     "output_type": "stream",
     "text": [
      "Defaulting to user installation because normal site-packages is not writeable\r\n",
      "Requirement already satisfied: nltk in /home/mohamed/.local/lib/python3.10/site-packages (3.7)\r\n",
      "Requirement already satisfied: joblib in /home/mohamed/.local/lib/python3.10/site-packages (from nltk) (1.1.0)\r\n",
      "Requirement already satisfied: regex>=2021.8.3 in /usr/lib64/python3.10/site-packages (from nltk) (2022.6.2)\r\n",
      "Requirement already satisfied: click in /usr/lib/python3.10/site-packages (from nltk) (8.0.4)\r\n",
      "Requirement already satisfied: tqdm in /home/mohamed/.local/lib/python3.10/site-packages (from nltk) (4.64.0)\r\n"
     ]
    },
    {
     "name": "stderr",
     "output_type": "stream",
     "text": [
      "[nltk_data] Downloading package stopwords to\n",
      "[nltk_data]     /home/mohamed/nltk_data...\n",
      "[nltk_data]   Package stopwords is already up-to-date!\n"
     ]
    }
   ],
   "source": [
    "from pyspark.sql.functions import explode, cast, udf, trim\n",
    "import re\n",
    "!pip install nltk\n",
    "import nltk\n",
    "nltk.download('stopwords')\n",
    "from nltk.corpus import stopwords\n",
    "stoplist = stopwords.words('english')\n",
    "stoplist += list(map(lambda x: x.capitalize(),stoplist))\n",
    "stoplist.append('–')"
   ]
  },
  {
   "cell_type": "code",
   "execution_count": 5,
   "id": "82e4ca82",
   "metadata": {},
   "outputs": [],
   "source": [
    "clean_text = udf(lambda x: re.sub('[^a-zA-Z\\-0-9]+?',\"\",x))"
   ]
  },
  {
   "cell_type": "code",
   "execution_count": 6,
   "id": "06e1246f",
   "metadata": {},
   "outputs": [],
   "source": [
    "df2 = df.withColumn('words',split(df['title'],' '))\n",
    "df2 = df2.withColumn('words',explode(df2['words']))\n",
    "df2 = df2.withColumn('words',clean_text(df2['words'])).select('words')\n",
    "words = df2.filter(~(df2['words'].isin(stoplist)))"
   ]
  },
  {
   "cell_type": "code",
   "execution_count": 7,
   "id": "e54990ce",
   "metadata": {},
   "outputs": [],
   "source": [
    "# get the count\n",
    "words = words.groupBy('words').count().orderBy('count',ascending = False).where(\"words != ''\")"
   ]
  },
  {
   "cell_type": "code",
   "execution_count": 8,
   "id": "30839a2c",
   "metadata": {},
   "outputs": [
    {
     "name": "stderr",
     "output_type": "stream",
     "text": [
      "                                                                                \r"
     ]
    },
    {
     "name": "stdout",
     "output_type": "stream",
     "text": [
      "+--------+-----+\n",
      "|   words|count|\n",
      "+--------+-----+\n",
      "|    says|  430|\n",
      "|      US|  419|\n",
      "| Ukraine|  366|\n",
      "|shooting|  355|\n",
      "|     New|  327|\n",
      "|   Texas|  282|\n",
      "|  school|  281|\n",
      "|  review|  274|\n",
      "|     new|  235|\n",
      "|   Biden|  212|\n",
      "|     gun|  210|\n",
      "|     war|  203|\n",
      "|      UK|  201|\n",
      "|  police|  183|\n",
      "|  Russia|  168|\n",
      "|   could|  165|\n",
      "|  Uvalde|  162|\n",
      "| Russian|  159|\n",
      "|    2022|  158|\n",
      "|    Utah|  152|\n",
      "+--------+-----+\n",
      "only showing top 20 rows\n",
      "\n"
     ]
    },
    {
     "data": {
      "image/png": "[encoded data removed]",
      "text/plain": [
       "<Figure size 432x288 with 1 Axes>"
      ]
     },
     "metadata": {
      "needs_background": "light"
     },
     "output_type": "display_data"
    }
   ],
   "source": [
    "words.show()\n",
    "words_pandas_df = words.toPandas().head(20)\n",
    "plt.bar(words_pandas_df['words'],words_pandas_df['count'])\n",
    "plt.xticks(rotation = 'vertical') # Make it more readable\n",
    "plt.grid() # Just because I like grids"
   ]
  },
  {
   "cell_type": "code",
   "execution_count": 9,
   "id": "00ab350e",
   "metadata": {},
   "outputs": [
    {
     "name": "stdout",
     "output_type": "stream",
     "text": [
      "+----------+-----+\n",
      "|      date|count|\n",
      "+----------+-----+\n",
      "|2022-06-03| 1038|\n",
      "|2022-06-02|  696|\n",
      "|2022-06-01|  829|\n",
      "|2022-05-31|  544|\n",
      "|2022-05-30|  256|\n",
      "|2022-05-29|  496|\n",
      "|2022-05-27| 1049|\n",
      "|2022-05-26|  990|\n",
      "|2022-05-25|  626|\n",
      "|2022-05-24|  673|\n",
      "|2022-05-23|  716|\n",
      "|2022-05-22|  566|\n",
      "|2022-05-21|  312|\n",
      "|2022-05-20|  799|\n",
      "|2022-05-19|  635|\n",
      "|2022-05-18|  748|\n",
      "|2022-05-17|  839|\n",
      "|2022-05-16|  587|\n",
      "+----------+-----+\n",
      "\n"
     ]
    },
    {
     "data": {
      "image/png": "[encoded data removed]",
      "text/plain": [
       "<Figure size 432x288 with 1 Axes>"
      ]
     },
     "metadata": {
      "needs_background": "light"
     },
     "output_type": "display_data"
    }
   ],
   "source": [
    "# Articles per day\n",
    "df3 = df.groupBy('date').count().orderBy('date',ascending = False)\n",
    "df3.show()\n",
    "\n",
    "df3_pandas_df = df3.toPandas()\n",
    "plt.bar(df3_pandas_df['date'],df3_pandas_df['count'])\n",
    "plt.xticks(rotation='vertical')\n",
    "plt.grid()"
   ]
  }
 ],
 "metadata": {
  "kernelspec": {
   "display_name": "Python 3 (ipykernel)",
   "language": "python",
   "name": "python3"
  },
  "language_info": {
   "codemirror_mode": {
    "name": "ipython",
    "version": 3
   },
   "file_extension": ".py",
   "mimetype": "text/x-python",
   "name": "python",
   "nbconvert_exporter": "python",
   "pygments_lexer": "ipython3",
   "version": "3.10.5"
  }
 },
 "nbformat": 4,
 "nbformat_minor": 5
}
